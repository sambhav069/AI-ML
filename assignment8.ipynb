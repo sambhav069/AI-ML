{
 "cells": [
  {
   "cell_type": "code",
   "execution_count": 1,
   "metadata": {},
   "outputs": [],
   "source": [
    "\n"
   ]
  },
  {
   "cell_type": "code",
   "execution_count": 2,
   "metadata": {},
   "outputs": [
    {
     "name": "stdout",
     "output_type": "stream",
     "text": [
      "Array is:\n",
      "[[54 69 11 72 14]\n",
      " [24 75 16 74 31]\n",
      " [86 90 59 18 51]\n",
      " [43 61 74 71 51]\n",
      " [67  1 69 69 61]\n",
      " [96 24 83 15 32]\n",
      " [93 49 91 36 84]\n",
      " [59 42 30 67  2]\n",
      " [80 74 53 58 77]\n",
      " [21 94 63 35 52]\n",
      " [66 97 44 23  4]\n",
      " [31 51 62 75 34]]\n",
      "Average of the last row: 50.6\n",
      "Minimum of the last row: 31\n",
      "Maximum of the last row: 75\n",
      "No of even in last row 2\n"
     ]
    }
   ],
   "source": [
    "#question1\n",
    "import numpy as np \n",
    "def calculate(arr2):\n",
    "    print(\"Average of the last row:\",arr2[11].mean())\n",
    "    print(\"Minimum of the last row:\",arr2[11].min())\n",
    "    print(\"Maximum of the last row:\",arr2[11].max())\n",
    "    count =0\n",
    "    for i in arr2[11]:\n",
    "        if(i%2==0):\n",
    "            count+=1\n",
    "    print(\"No of even in last row\",count)\n",
    "\n",
    "         \n",
    "\n",
    "\n",
    "arr=np.random.randint(1,100,60)\n",
    "arr1 =arr.reshape(12,5)\n",
    "print(\"Array is:\")\n",
    "print(arr1)\n",
    "calculate(arr1)"
   ]
  },
  {
   "cell_type": "code",
   "execution_count": 4,
   "metadata": {},
   "outputs": [
    {
     "name": "stdout",
     "output_type": "stream",
     "text": [
      "[[19 40 33 23 39]\n",
      " [20 20 22 57 23]\n",
      " [65 63 52 58 35]\n",
      " [44 19 58 95 88]\n",
      " [97 64 61 69 50]\n",
      " [ 2 98 29 22  6]\n",
      " [22 41 59 18 90]\n",
      " [46 58 33 57 72]\n",
      " [70 85  6 68 44]\n",
      " [44 34 20 49 48]\n",
      " [15  1 37 29 69]\n",
      " [64 94 91 88  1]]\n",
      "\n",
      "[[39 23 33 40 19]\n",
      " [23 57 22 20 20]\n",
      " [35 58 52 63 65]\n",
      " [88 95 58 19 44]\n",
      " [50 69 61 64 97]\n",
      " [ 6 22 29 98  2]\n",
      " [90 18 59 41 22]\n",
      " [72 57 33 58 46]\n",
      " [44 68  6 85 70]\n",
      " [48 49 20 34 44]\n",
      " [69 29 37  1 15]\n",
      " [ 1 88 91 94 64]]\n"
     ]
    }
   ],
   "source": [
    "#question 1 \n",
    "arr=np.random.randint(1,100,60)\n",
    "arr1 =arr.reshape(12,5)\n",
    "print (arr1)\n",
    "print()\n",
    "print (arr1[:,-1::-1])"
   ]
  },
  {
   "cell_type": "code",
   "execution_count": null,
   "metadata": {},
   "outputs": [],
   "source": []
  }
 ],
 "metadata": {
  "kernelspec": {
   "display_name": "Python 3",
   "language": "python",
   "name": "python3"
  },
  "language_info": {
   "codemirror_mode": {
    "name": "ipython",
    "version": 3
   },
   "file_extension": ".py",
   "mimetype": "text/x-python",
   "name": "python",
   "nbconvert_exporter": "python",
   "pygments_lexer": "ipython3",
   "version": "3.11.9"
  }
 },
 "nbformat": 4,
 "nbformat_minor": 2
}
