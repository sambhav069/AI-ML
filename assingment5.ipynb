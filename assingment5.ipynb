{
 "cells": [
  {
   "cell_type": "code",
   "execution_count": 3,
   "metadata": {},
   "outputs": [
    {
     "name": "stdout",
     "output_type": "stream",
     "text": [
      "50.24\n"
     ]
    }
   ],
   "source": [
    "# question 1\n",
    "class calculate_area:\n",
    "    def area(rad):\n",
    "        area = 3.14*(rad*rad)\n",
    "        return area\n",
    "a = calculate_area\n",
    "n=int(input(\"enter the radius:\"))\n",
    "ar=a.area(n)\n",
    "print(ar)"
   ]
  },
  {
   "cell_type": "code",
   "execution_count": 4,
   "metadata": {},
   "outputs": [
    {
     "name": "stdout",
     "output_type": "stream",
     "text": [
      "45.0\n"
     ]
    }
   ],
   "source": [
    "#question 2\n",
    "class calculate_discount:\n",
    "    def discount(org,discount):\n",
    "        final=org - (org/100)*discount\n",
    "        return final\n",
    "a = calculate_discount\n",
    "n = int (input(\"enter the org price:\"))\n",
    "m = int (input(\"enter the discount percentage:\"))\n",
    "ar = a.discount(n,m)\n",
    "print (ar)\n"
   ]
  },
  {
   "cell_type": "code",
   "execution_count": 22,
   "metadata": {},
   "outputs": [
    {
     "name": "stdout",
     "output_type": "stream",
     "text": [
      "2\n"
     ]
    }
   ],
   "source": [
    "#question 3\n",
    "class count_vowels:\n",
    "    def count(name):\n",
    "        check = \"aeiouAEIOU\"  \n",
    "        vowel_count = 0\n",
    "        for char in name:\n",
    "            if char in check:\n",
    "                vowel_count += 1  \n",
    "        \n",
    "        return vowel_count\n",
    "a= count_vowels\n",
    "name = input(\"enter the string:\")\n",
    "ar=a.count(name)\n",
    "print(ar)"
   ]
  }
 ],
 "metadata": {
  "kernelspec": {
   "display_name": "Python 3",
   "language": "python",
   "name": "python3"
  },
  "language_info": {
   "codemirror_mode": {
    "name": "ipython",
    "version": 3
   },
   "file_extension": ".py",
   "mimetype": "text/x-python",
   "name": "python",
   "nbconvert_exporter": "python",
   "pygments_lexer": "ipython3",
   "version": "3.12.3"
  }
 },
 "nbformat": 4,
 "nbformat_minor": 2
}
