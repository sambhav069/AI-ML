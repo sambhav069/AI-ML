{
 "cells": [
  {
   "cell_type": "code",
   "execution_count": 12,
   "metadata": {},
   "outputs": [
    {
     "name": "stdout",
     "output_type": "stream",
     "text": [
      "120\n"
     ]
    }
   ],
   "source": [
    "#question 1\n",
    "n=int(input(\"enter the number:\"))\n",
    "fact=1\n",
    "if (n==0):\n",
    "    print (\"the factorial is 0\")\n",
    "    \n",
    "else:\n",
    "    for i in range (1,n+1):\n",
    "        fact=fact*i\n",
    "    print(fact)\n",
    "\n"
   ]
  },
  {
   "cell_type": "code",
   "execution_count": 4,
   "metadata": {},
   "outputs": [
    {
     "name": "stdout",
     "output_type": "stream",
     "text": [
      "Word with max length: sakshammmmmmmmmmm\n"
     ]
    }
   ],
   "source": [
    "#ouestion 4\n",
    "list=['sejal','saaaannvi','samridhi','sambhav','sakshammmmmmmmmmm']\n",
    "max = len(list[0])\n",
    "for i in list:\n",
    "    if(len(i)>max):\n",
    "        max=len(i)\n",
    "        store=i\n",
    "print(\"Word with max length:\", store )"
   ]
  },
  {
   "cell_type": "code",
   "execution_count": null,
   "metadata": {},
   "outputs": [],
   "source": [
    "#question 2\n",
    "import os\n",
    "file = open('text2.txt','r')\n",
    "data = file.read()\n",
    "file.close()\n",
    "# print(len(data.split()))\n",
    "l = data.split(\"\\n\")\n",
    "for i in l:\n",
    "    print(len(i.split(\" \")))"
   ]
  },
  {
   "cell_type": "code",
   "execution_count": null,
   "metadata": {},
   "outputs": [],
   "source": [
    "#QUESTION 3\n",
    "list=[2,34,1,56,76,45,80]\n",
    "\n",
    "def maximum(list):\n",
    "   max=list[0]\n",
    "   for i in list:\n",
    "     if(i>max):\n",
    "      max=i\n",
    "   return max\n",
    "\n",
    "def minimum(list):\n",
    "  min=list[0]\n",
    "  for i in list:\n",
    "    if(i<min):\n",
    "      min=i\n",
    "  return min\n",
    "\n",
    "print(\"Max num: \",maximum(list))\n",
    "print(\"Min num: \",minimum(list))"
   ]
  }
 ],
 "metadata": {
  "kernelspec": {
   "display_name": "Python 3",
   "language": "python",
   "name": "python3"
  },
  "language_info": {
   "codemirror_mode": {
    "name": "ipython",
    "version": 3
   },
   "file_extension": ".py",
   "mimetype": "text/x-python",
   "name": "python",
   "nbconvert_exporter": "python",
   "pygments_lexer": "ipython3",
   "version": "3.11.9"
  }
 },
 "nbformat": 4,
 "nbformat_minor": 2
}
