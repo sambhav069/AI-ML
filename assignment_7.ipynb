{
 "cells": [
  {
   "cell_type": "code",
   "execution_count": 25,
   "metadata": {},
   "outputs": [],
   "source": [
    "import numpy as n"
   ]
  },
  {
   "cell_type": "code",
   "execution_count": 26,
   "metadata": {},
   "outputs": [
    {
     "name": "stdout",
     "output_type": "stream",
     "text": [
      "[[ 60  19   4 113 100]\n",
      " [ 97  13  96  51 117]\n",
      " [ 82  28  20  65  23]\n",
      " [102  22 107   7 116]\n",
      " [ 64  72   0  22   1]\n",
      " [  2  67  71 118  92]\n",
      " [ 16 112  90  38  43]\n",
      " [ 37  50  55  49  44]\n",
      " [ 61  83 116  35  58]\n",
      " [ 93  56  58  32  60]\n",
      " [ 67  47  86  87  16]\n",
      " [ 25  76 117  72  83]]\n",
      "                                  \n",
      "[[ 60  19   4 113 100]\n",
      " [ 97  13  96  51 117]\n",
      " [ 82  28  20  65  23]\n",
      " [102  22 107   7 116]\n",
      " [ 64  72   0  22   1]\n",
      " [  2  67  71 118  92]\n",
      " [ 16 112  90  38  43]\n",
      " [ 37  50  55  49  44]\n",
      " [ 61  83 116  35  58]\n",
      " [ 93  56  58  32  60]\n",
      " [ 67  47  86  87  16]\n",
      " [ 10  11  12  13  14]]\n"
     ]
    }
   ],
   "source": [
    "# ouestion 1\n",
    "arr = n.random.randint(0,120,60)\n",
    "arr14=arr.reshape(12,5)\n",
    "print(arr14)\n",
    "lst=[11]\n",
    "lst1=[0,1,2,3,4]\n",
    "j=10\n",
    "for x in (lst):\n",
    "    for y in lst1:\n",
    "        arr14[x][y]=j\n",
    "        j+=1\n",
    "print(\"                                  \")\n",
    "print(arr14)\n",
    "\n"
   ]
  },
  {
   "cell_type": "code",
   "execution_count": 27,
   "metadata": {},
   "outputs": [
    {
     "name": "stdout",
     "output_type": "stream",
     "text": [
      "[[ 24  52  27  56 102]\n",
      " [ 75  78  39 112 107]\n",
      " [ 96  26  83  16  57]\n",
      " [ 65 105  25  84  32]\n",
      " [ 62 119  56  40  82]\n",
      " [ 93  38   6  57   3]\n",
      " [112  50 114  13  64]\n",
      " [ 15  40  58  59 115]\n",
      " [ 67  14  14 104  11]\n",
      " [ 10  55  52  37  24]\n",
      " [ 67  34  51  89  27]\n",
      " [104  97 115  23  62]]\n",
      "the max of the row  0 is: 102\n",
      "the min of the row  0 is: 24\n",
      "the max of the row  1 is: 112\n",
      "the min of the row  1 is: 39\n",
      "the max of the row  2 is: 96\n",
      "the min of the row  2 is: 16\n",
      "the max of the row  3 is: 105\n",
      "the min of the row  3 is: 25\n",
      "the max of the row  4 is: 119\n",
      "the min of the row  4 is: 40\n",
      "the max of the row  5 is: 93\n",
      "the min of the row  5 is: 3\n",
      "the max of the row  6 is: 114\n",
      "the min of the row  6 is: 13\n",
      "the max of the row  7 is: 115\n",
      "the min of the row  7 is: 15\n",
      "the max of the row  8 is: 104\n",
      "the min of the row  8 is: 11\n",
      "the max of the row  9 is: 55\n",
      "the min of the row  9 is: 10\n",
      "the max of the row  10 is: 89\n",
      "the min of the row  10 is: 27\n",
      "the max of the row  11 is: 115\n",
      "the min of the row  11 is: 23\n"
     ]
    }
   ],
   "source": [
    "#question 2\n",
    "arr1 = n.random.randint(0,120,60)\n",
    "arr3=arr1.reshape(12,5)\n",
    "print (arr3)\n",
    "i=0\n",
    "for row in arr3:\n",
    "    print(\"the max of the row \",i,\"is:\",max(row))\n",
    "    print(\"the min of the row \",i,\"is:\",min(row))\n",
    "    i+=1\n",
    "\n",
    "\n",
    "\n",
    "\n",
    "    "
   ]
  },
  {
   "cell_type": "code",
   "execution_count": null,
   "metadata": {},
   "outputs": [],
   "source": []
  },
  {
   "cell_type": "code",
   "execution_count": null,
   "metadata": {},
   "outputs": [],
   "source": []
  }
 ],
 "metadata": {
  "kernelspec": {
   "display_name": "Python 3",
   "language": "python",
   "name": "python3"
  },
  "language_info": {
   "codemirror_mode": {
    "name": "ipython",
    "version": 3
   },
   "file_extension": ".py",
   "mimetype": "text/x-python",
   "name": "python",
   "nbconvert_exporter": "python",
   "pygments_lexer": "ipython3",
   "version": "3.11.9"
  }
 },
 "nbformat": 4,
 "nbformat_minor": 2
}
